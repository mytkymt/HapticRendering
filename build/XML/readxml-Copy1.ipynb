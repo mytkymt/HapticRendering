{
 "cells": [
  {
   "cell_type": "code",
   "execution_count": 1,
   "metadata": {},
   "outputs": [],
   "source": [
    "import xml.etree.ElementTree as ET"
   ]
  },
  {
   "cell_type": "code",
   "execution_count": 2,
   "metadata": {},
   "outputs": [],
   "source": [
    "import wave\n",
    "import numpy as np\n",
    "import struct\n",
    "import sys\n",
    "import csv\n",
    "import resampy\n",
    "from scipy.io import wavfile\n",
    "from scipy.signal import resample\n",
    "import pandas as pd\n",
    "import numpy\n",
    "import random\n",
    "import sys\n",
    "from matplotlib import pyplot as plt\n",
    "import os\n",
    "from tqdm import tqdm\n",
    "%matplotlib inline"
   ]
  },
  {
   "cell_type": "code",
   "execution_count": 3,
   "metadata": {},
   "outputs": [],
   "source": [
    "def write_wav(data, filename, framerate, amplitude):\n",
    "    wavfile = wave.open(filename,'w')\n",
    "    nchannels = 1\n",
    "    sampwidth = 2\n",
    "    framerate = framerate\n",
    "    nframes = len(data)\n",
    "    comptype = \"NONE\"\n",
    "    compname = \"not compressed\"\n",
    "    wavfile.setparams((nchannels,\n",
    "                        sampwidth,\n",
    "                        framerate,\n",
    "                        nframes,\n",
    "                        comptype,\n",
    "                        compname))\n",
    "    frames = []\n",
    "    for s in data:\n",
    "        mul = int(s * amplitude)\n",
    "        frames.append(struct.pack('h', mul))\n",
    "\n",
    "    frames = ''.join(frames)\n",
    "    wavfile.writeframes(frames)\n",
    "    wavfile.close()\n",
    "    print(\"%s written\" %(filename)) "
   ]
  },
  {
   "cell_type": "code",
   "execution_count": 4,
   "metadata": {},
   "outputs": [],
   "source": [
    "def xml2csv(texture, attrib):\n",
    "    tree = ET.parse(attrib + \"_\" + texture + \".xml\")\n",
    "    root = tree.getroot()\n",
    "    accel = root.find(attrib)\n",
    "    csvlist = [[attrib]]\n",
    "    for value in accel:\n",
    "        tmp = [value.text]\n",
    "        csvlist.append(tmp)\n",
    "    csvname = attrib + \"_\" + texture + \".csv\"\n",
    "    with open(csvname, \"w\", encoding=\"Shift_jis\") as f:\n",
    "        writer = csv.writer(f, lineterminator=\"\\n\")\n",
    "        writer.writerows(csvlist)\n",
    "    return csvname"
   ]
  },
  {
   "cell_type": "code",
   "execution_count": 5,
   "metadata": {},
   "outputs": [],
   "source": [
    "def csv2wav(csvname, wavname):\n",
    "    df = pd.read_csv(csvname)\n",
    "    data = df.values\n",
    "    data /= numpy.max(numpy.abs(data))\n",
    "    data_resampled = resample(data, len(data))\n",
    "    wavfile.write(wavname, 10000, data_resampled)"
   ]
  },
  {
   "cell_type": "code",
   "execution_count": 6,
   "metadata": {},
   "outputs": [],
   "source": [
    "#import pysoundfile as sf\n",
    "def list2wav(data, wavname):\n",
    "    data = numpy.array(data, dtype='float64')\n",
    "    data /= numpy.max(numpy.abs(data))\n",
    "    data *= 2147483647\n",
    "    #data_resampled = resample(data, len(data))\n",
    "    data = data.astype(np.int32)\n",
    "    wavfile.write(wavname, 10000, data)"
   ]
  },
  {
   "cell_type": "code",
   "execution_count": 7,
   "metadata": {},
   "outputs": [],
   "source": [
    "def createcsv(data, csvname):\n",
    "    with open(csvname, \"w\", encoding=\"Shift_jis\") as f:\n",
    "        writer = csv.writer(f, lineterminator=\"\\n\")\n",
    "        writer.writerows(data)"
   ]
  },
  {
   "cell_type": "code",
   "execution_count": 8,
   "metadata": {},
   "outputs": [],
   "source": [
    "def getParams(xmlname):\n",
    "    tree = ET.parse(xmlname)\n",
    "    root = tree.getroot()\n",
    "    numMod = int(root.find('numMod').text)\n",
    "    numARCoeff = int(root.find('numARCoeff').text)\n",
    "    numMACoeff = int(root.find('numMACoeff').text)\n",
    "    yield numMod, numARCoeff, numMACoeff\n",
    "    for model in root:\n",
    "        if(model.tag != 'model'):\n",
    "            continue\n",
    "        modelnum = model.find('modNum').text\n",
    "        speed = model.find('speedMod').text\n",
    "        ARcoeff = []\n",
    "        for value in model.find('ARcoeff'):\n",
    "            ARcoeff.append(value.text)\n",
    "        #tmp.append(model.find('var').text)\n",
    "        ARcoeff.append('1.0')\n",
    "        MAcoeff = []\n",
    "        var = float(model.find('var').text)\n",
    "        gain = float(model.find('gain').text)\n",
    "        for value in model.find('MAcoeff'):\n",
    "            MAcoeff.append(value.text)\n",
    "        #tmp.append(model.find('var').text)\n",
    "        #MAcoeff.append('1.0')\n",
    "        yield modelnum, speed, ARcoeff, MAcoeff, var, gain"
   ]
  },
  {
   "cell_type": "code",
   "execution_count": 9,
   "metadata": {},
   "outputs": [],
   "source": [
    "import math\n",
    "def createARMAmodel(histIn, histOut, ARcoeff, MAcoeff,ARorder, MAorder, var):\n",
    "    ARcoeff = numpy.array(ARcoeff, dtype='float64').T   #Coefficent of AR model\n",
    "    MAcoeff = numpy.array(MAcoeff, dtype='float64').T   #Coefficein of MA model\n",
    "    histOut[ARorder + 1] = random.random()#.normal(0, math.sqrt(var))            #Create Input of time t\n",
    "    y_t = numpy.dot(histOut, ARcoeff) + numpy.dot(histIn, MAcoeff) #Create Output of time t\n",
    "    #preserve params of this step\n",
    "    if(MAorder != 0):\n",
    "        histIn[2:MAorder] = histIn[1:MAorder-1]\n",
    "        histIn[1] = histOut[ARorder+1]\n",
    "    histOut[2:ARorder+1] = histOut[1:ARorder]\n",
    "    histOut[1] = y_t\n",
    "    return y_t, histOut, histIn"
   ]
  },
  {
   "cell_type": "code",
   "execution_count": 10,
   "metadata": {},
   "outputs": [],
   "source": [
    "import math\n",
    "def createARMAmodel2(histIn, histOut, ARcoeff, MAcoeff,ARorder, MAorder, var, gain):\n",
    "    ARcoeff = numpy.array(ARcoeff, dtype='float64').T   #Coefficent of AR model\n",
    "    MAcoeff = numpy.array(MAcoeff, dtype='float64').T   #Coefficein of MA model\n",
    "    if(var == 0.0):\n",
    "        histOut[ARorder] = numpy.random.normal(0, 1)            #Create Input of time\n",
    "    else:\n",
    "        histOut[ARorder] = numpy.random.normal(0, math.sqrt(var)) * gain            #Create Input of time t\n",
    "    y_t = -numpy.dot(histOut, ARcoeff) + numpy.dot(histIn, MAcoeff) * gain #Create Output of time t\n",
    "    #preserve params of this step\n",
    "    if(MAorder != 0):\n",
    "        histIn[2:MAorder] = histIn[1:MAorder-1]\n",
    "        histIn[1] = histOut[ARorder]\n",
    "    histOut[1:ARorder] = histOut[:ARorder-1]\n",
    "    histOut[1] = y_t\n",
    "    return y_t, histOut, histIn"
   ]
  },
  {
   "cell_type": "code",
   "execution_count": 11,
   "metadata": {},
   "outputs": [],
   "source": [
    "from scipy.signal import buttord,butter,filtfilt\n",
    "def butter_filter(data, samplingrate, cutoff, order, fitertype='low'):\n",
    "    fnyq = 0.5 * samplingrate\n",
    "    normal_cutoff = cutoff / fnyq\n",
    "   # ws = fs / fnyq\n",
    "    # Get the filter coefficients\n",
    "    #N, Wn = buttord(wp, ws, gpass, gstop)\n",
    "    b, a = butter(order, normal_cutoff, btype=fitertype, analog=False)\n",
    "    y = filtfilt(b, a, data, padlen=0)\n",
    "    return y"
   ]
  },
  {
   "cell_type": "code",
   "execution_count": 12,
   "metadata": {},
   "outputs": [],
   "source": [
    "import glob\n",
    "def fileiter():\n",
    "    files = glob.glob(\"./*.xml\")\n",
    "    #yield len(files)\n",
    "    for file in files:\n",
    "        yield file"
   ]
  },
  {
   "cell_type": "code",
   "execution_count": 13,
   "metadata": {},
   "outputs": [
    {
     "name": "stderr",
     "output_type": "stream",
     "text": [
      "  3%|██▍                                                                             | 3/100 [02:11<1:13:17, 45.34s/it]C:\\Users\\ymtmy\\anaconda3\\lib\\site-packages\\ipykernel_launcher.py:4: RuntimeWarning: invalid value encountered in true_divide\n",
      "  after removing the cwd from sys.path.\n",
      "100%|██████████████████████████████████████████████████████████████████████████████| 100/100 [1:16:36<00:00, 45.96s/it]\n"
     ]
    }
   ],
   "source": [
    "samplingrate = 100000 \n",
    "T = 50000   #Number of points\n",
    "high_cutoff = 1000\n",
    "low_cutoff = 10\n",
    "Polyorder = 1 #\n",
    "files = fileiter()\n",
    "Numfile = 100\n",
    "for i in tqdm(range(Numfile)):\n",
    "    xmlname = files.__next__()\n",
    "    dirname = xmlname.split(\".\")[1][1:]\n",
    "    model = getParams(xmlname)\n",
    "    numMod, numARcoeff, numMAcoeff = model.__next__()\n",
    "    for i in range(numMod):\n",
    "        modelnum, speed, ARcoeff, MAcoeff, var, gain = model.__next__()\n",
    "        ARcoeff = ARcoeff[1:]\n",
    "        histIn = numpy.zeros(numMAcoeff + 1, dtype='float64')\n",
    "        histOut = numpy.zeros(numARcoeff + 1, dtype='float64')\n",
    "        #histOut = numpy.append(numpy.ones(1, dtype='float64'), numpy.zeros(numARcoeff + 1, dtype='float64'))\n",
    "        data =[]\n",
    "        #data 作る\n",
    "        for i in range(T):\n",
    "            (y_t, histOut, histIn) = createARMAmodel2(histIn, histOut, ARcoeff, MAcoeff, numARcoeff, numMAcoeff, var, gain)\n",
    "            data.append(y_t)\n",
    "        #csvファイル作る（パス，データ）\n",
    "        csvname = './' + dirname + '/csv/' + 'Model' + modelnum + '.csv'\n",
    "        #createcsv(data, csvname)\n",
    "        #wav作る\n",
    "        #data = data[10000:40001]\n",
    "        #filterdata = butter_filter(data, samplingrate, high_cutoff, Polyorder, fitertype='low')\n",
    "        #data = butter_filter(data, samplingrate, low_cutoff, Polyorder, fitertype='high')\n",
    "        if(data[0] == data[0]):\n",
    "            if(not(os.path.exists(dirname) or os.path.isdir(dirname))):\n",
    "                os.mkdir(dirname)\n",
    "            if(not(os.path.exists(dirname + \"/csv\") or os.path.isdir(dirname + \"/csv\"))):\n",
    "               os.mkdir(dirname + \"/csv\")\n",
    "            if(not(os.path.exists(dirname + \"/wav\") or os.path.isdir(dirname + \"/wav\"))):\n",
    "               os.mkdir(dirname + \"/wav\")\n",
    "            wavname = './' + dirname + '/wav/Speed' + speed + \".wav\"\n",
    "            list2wav(data, wavname)\n",
    "            "
   ]
  },
  {
   "cell_type": "code",
   "execution_count": null,
   "metadata": {},
   "outputs": [],
   "source": [
    "samplingrate = 100000 \n",
    "T = 50000   #Number of points\n",
    "high_cutoff = 1000\n",
    "low_cutoff = 50\n",
    "Polyorder = 1 #\n",
    "Numfile = 100\n",
    "xmlname = \"Models_Aluminum Foil.xml\"\n",
    "dirname = xmlname.split(\".\")[0]\n",
    "model = getParams(xmlname)\n",
    "numMod, numARcoeff, numMAcoeff = model.__next__()\n",
    "for i in tqdm(range(1)):\n",
    "    modelnum, speed, ARcoeff, MAcoeff, var = model.__next__()\n",
    "    #ARcoeff.reverse()\n",
    "    #tmp = MAcoeff\n",
    "    #tmp.reverse()\n",
    "   # MAcoeff[1:] = tmp[:numMAcoeff]\n",
    "    #MAcoeff[0] = 1.0\n",
    "   # print(MAcoeff)\n",
    "    histIn = numpy.zeros((numMAcoeff + 1), dtype='float64')\n",
    "    histOut = numpy.append(numpy.ones(1, dtype='float64'), numpy.zeros(numARcoeff + 1, dtype='float64'))\n",
    "    data =[]\n",
    "    #data 作る\n",
    "    for i in range(T):\n",
    "        (y_t, histOut, histIn) = createARMAmodel(histIn, histOut, ARcoeff, MAcoeff, numARcoeff, numMAcoeff, var)\n",
    "        data.append(y_t)\n",
    "    #csvファイル作る（パス，データ）\n",
    "    csvname = './' + dirname + '/csv/' + 'Model' + modelnum + '.csv'\n",
    "     #createcsv(data, csvname)\n",
    "    #wav作る\n",
    "    data = data[10000:40001]\n",
    "    #lowdata = butter_filter(data, samplingrate, high_cutoff, Polyorder, fitertype='low')\n",
    "    if(lowdata[0] == lowdata[0]):\n",
    "        banddata = butter_filter(data, samplingrate, low_cutoff, Polyorder, fitertype='high')\n",
    "        #print(data[0:3])\n",
    "        if(not(os.path.exists(dirname) or os.path.isdir(dirname))):\n",
    "            os.mkdir(dirname)\n",
    "        if(not(os.path.exists(dirname + \"/csv\") or os.path.isdir(dirname + \"/csv\"))):\n",
    "            os.mkdir(dirname + \"/csv\")\n",
    "        if(not(os.path.exists(dirname + \"/wav2\") or os.path.isdir(dirname + \"/wav\"))):\n",
    "            os.mkdir(dirname + \"/wav\")\n",
    "        wavname = './' + dirname + '/wav/Speed' + speed + \".wav\"\n",
    "        list2wav(banddata, wavname)\n",
    "    #else:\n",
    "    #     wavname = './' + dirname + '/wav/Nofilter_Speed' + speed + \".wav\"\n",
    "    #     list2wav(data, wavname)\n",
    "        "
   ]
  },
  {
   "cell_type": "code",
   "execution_count": 16,
   "metadata": {},
   "outputs": [
    {
     "data": {
      "text/plain": [
       "array([0., 0., 0., 0., 0., 0., 0., 0., 0., 0.])"
      ]
     },
     "execution_count": 16,
     "metadata": {},
     "output_type": "execute_result"
    }
   ],
   "source": [
    "numpy.random.normal(0,0 ,10)"
   ]
  },
  {
   "cell_type": "code",
   "execution_count": null,
   "metadata": {},
   "outputs": [],
   "source": []
  },
  {
   "cell_type": "code",
   "execution_count": null,
   "metadata": {},
   "outputs": [],
   "source": []
  }
 ],
 "metadata": {
  "file_extension": ".py",
  "kernelspec": {
   "display_name": "Python 3.7.6 64-bit ('base': conda)",
   "language": "python",
   "name": "python37664bitbaseconda7f127a9f199f457e9ede1b897ec6b170"
  },
  "language_info": {
   "codemirror_mode": {
    "name": "ipython",
    "version": 3
   },
   "file_extension": ".py",
   "mimetype": "text/x-python",
   "name": "python",
   "nbconvert_exporter": "python",
   "pygments_lexer": "ipython3",
   "version": "3.7.6"
  },
  "mimetype": "text/x-python",
  "name": "python",
  "npconvert_exporter": "python",
  "pygments_lexer": "ipython3",
  "version": 3,
  "widgets": {
   "application/vnd.jupyter.widget-state+json": {
    "state": {},
    "version_major": 2,
    "version_minor": 0
   }
  }
 },
 "nbformat": 4,
 "nbformat_minor": 2
}
